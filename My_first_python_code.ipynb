{
  "nbformat": 4,
  "nbformat_minor": 0,
  "metadata": {
    "colab": {
      "provenance": [],
      "authorship_tag": "ABX9TyP69AvTdcVpZZ2VCj3jQeBh",
      "include_colab_link": true
    },
    "kernelspec": {
      "name": "python3",
      "display_name": "Python 3"
    },
    "language_info": {
      "name": "python"
    }
  },
  "cells": [
    {
      "cell_type": "markdown",
      "metadata": {
        "id": "view-in-github",
        "colab_type": "text"
      },
      "source": [
        "<a href=\"https://colab.research.google.com/github/Moogrob127/dataviz2025/blob/main/My_first_python_code.ipynb\" target=\"_parent\"><img src=\"https://colab.research.google.com/assets/colab-badge.svg\" alt=\"Open In Colab\"/></a>"
      ]
    },
    {
      "cell_type": "markdown",
      "source": [
        "Here we can write using **Markdown**"
      ],
      "metadata": {
        "id": "0WnmKLaeHV42"
      }
    },
    {
      "cell_type": "markdown",
      "source": [
        "#Intro"
      ],
      "metadata": {
        "id": "riKR_ilkIEV8"
      }
    },
    {
      "cell_type": "markdown",
      "source": [
        "##name"
      ],
      "metadata": {
        "id": "GD6sByLtIR4X"
      }
    },
    {
      "cell_type": "code",
      "execution_count": 1,
      "metadata": {
        "colab": {
          "base_uri": "https://localhost:8080/"
        },
        "id": "5aYmKGSwGPX5",
        "outputId": "7689f758-77b1-401e-e9f7-02fc8ccfd503"
      },
      "outputs": [
        {
          "output_type": "stream",
          "name": "stdout",
          "text": [
            "Benyapa\n"
          ]
        }
      ],
      "source": [
        "print(\"Benyapa\")"
      ]
    },
    {
      "cell_type": "markdown",
      "source": [
        "##surname"
      ],
      "metadata": {
        "id": "Qwb3pCpZIXsv"
      }
    },
    {
      "cell_type": "code",
      "source": [
        "print('Thammakhot')"
      ],
      "metadata": {
        "colab": {
          "base_uri": "https://localhost:8080/"
        },
        "id": "8gXfisYSId-u",
        "outputId": "f99e24e9-bf5a-4f97-9212-403952d78511"
      },
      "execution_count": 4,
      "outputs": [
        {
          "output_type": "stream",
          "name": "stdout",
          "text": [
            "Thammakhot\n"
          ]
        }
      ]
    },
    {
      "cell_type": "code",
      "source": [],
      "metadata": {
        "id": "aZWk8hjvJSfW"
      },
      "execution_count": null,
      "outputs": []
    }
  ]
}